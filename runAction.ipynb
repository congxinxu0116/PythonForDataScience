{
 "cells": [
  {
   "cell_type": "code",
   "execution_count": 2,
   "metadata": {},
   "outputs": [
    {
     "name": "stdout",
     "output_type": "stream",
     "text": [
      "   FireBolt  MagicMissile  ScorchingRay\n",
      "0         4            13            17\n",
      "1         4            12            10\n",
      "2         7            14            27\n",
      "3         0            14            21\n",
      "4         0            14            16\n"
     ]
    },
    {
     "data": {
      "text/plain": [
       "<Figure size 640x480 with 1 Axes>"
      ]
     },
     "metadata": {},
     "output_type": "display_data"
    },
    {
     "data": {
      "text/plain": [
       "\"\\n\\nlv = []\\nfb = []\\nmm = []\\nsr = []\\n\\nfor lvl in range(2,4): #2,10\\n    # print(lvl,fireBolt(lvl),magicMissile(lvl),scorchingRay(lvl))\\n    for i in range(100000): #100000 is slow\\n        lv.append(lvl)\\n        fb.append(fireBolt(lvl))\\n        mm.append(magicMissile(lvl))\\n        sr.append(scorchingRay(lvl))\\n\\n\\nfoo = {'SpellLevel':lv,'FireBolt':fb,'MagicMissile':mm,'ScorchingRay':sr}\\ndf = pd.DataFrame(foo)\\n\\nprint(df.head(5))\\ndf.loc[df['SpellLevel']==3].ScorchingRay.plot.hist()\\nplt.show()\\n\\n\""
      ]
     },
     "execution_count": 2,
     "metadata": {},
     "output_type": "execute_result"
    }
   ],
   "source": [
    "\n",
    "# pete alonzi (lpa2a@virginia.edu)\n",
    "# 2020-07-05\n",
    "# calculate wizard dps optimization\n",
    "\n",
    "########\n",
    "import numpy\n",
    "from numpy.random import randint as dX\n",
    "import pandas as pd\n",
    "import matplotlib.pyplot as plt\n",
    "\n",
    "def hit(ac=15,mod=5):\n",
    "    roll = dX(1,21)\n",
    "    if roll == 20: return 2\n",
    "    elif roll+mod >= ac: return 1\n",
    "    else: return 0\n",
    "        \n",
    "def fireBolt(l=2,ac=15,mod=5):\n",
    "    if dX(1,3) == 2: return 0 # assume fifty/fifty hit rate\n",
    "    # l is level of spell slot\n",
    "    if l >= 9: return sum(dX(1,11,4)) \n",
    "    elif l >= 6: return sum(dX(1,11,3)) \n",
    "    elif l >=  3: return sum(dX(1,11,2)) \n",
    "    else: return sum(dX(1,11,1))\n",
    "\n",
    "def magicMissile(l=2,ac=15,mod=5):\n",
    "    # ac and mod not used in the function\n",
    "    # 3 darts each 1d4+1 force damage\n",
    "    # higher level slots give 1 extra dart per level\n",
    "    dmg = dX(1,5)+1+dX(1,5)+1\n",
    "    for i in range(l): dmg += dX(1,5)+1\n",
    "    return dmg\n",
    "\n",
    "def scorchingRay(l=2,ac=15,mod=5):\n",
    "    # 3 rays of fire\n",
    "    # ranged attack for each --> 2d6 fire damage\n",
    "    #  higher levels give one extra ray per level\n",
    "    dmg = 0\n",
    "    if hit(ac,mod): dmg += sum(dX(1,7,2))\n",
    "    if hit(ac,mod): dmg += sum(dX(1,7,2))\n",
    "    for i in range(l): \n",
    "            if hit(ac,mod): dmg += sum(dX(1,7,2))\n",
    "    return dmg\n",
    "\n",
    "def eventGenerator(n=1000,s=scorchingRay,sl=2,ac=15,mod=5):\n",
    "    foo = []\n",
    "    for i in range(n): foo.append(s(sl,ac,mod))\n",
    "    return foo\n",
    "\n",
    "mm = eventGenerator(100000,magicMissile,2,15,5)\n",
    "fb = eventGenerator(100000,fireBolt,2,15,5)\n",
    "sr = eventGenerator(100000,scorchingRay,2,15,5)\n",
    "\n",
    "foo = {'FireBolt':fb,'MagicMissile':mm,'ScorchingRay':sr}\n",
    "df = pd.DataFrame(foo)\n",
    "print(df.head(5))\n",
    "#df.MagicMissile.plot.hist()\n",
    "df.plot.hist()\n",
    "plt.show()\n",
    "\n",
    "\n",
    "# exploratory data analysis block - this code is temporary\n",
    "'''\n",
    "\n",
    "lv = []\n",
    "fb = []\n",
    "mm = []\n",
    "sr = []\n",
    "\n",
    "for lvl in range(2,4): #2,10\n",
    "    # print(lvl,fireBolt(lvl),magicMissile(lvl),scorchingRay(lvl))\n",
    "    for i in range(100000): #100000 is slow\n",
    "        lv.append(lvl)\n",
    "        fb.append(fireBolt(lvl))\n",
    "        mm.append(magicMissile(lvl))\n",
    "        sr.append(scorchingRay(lvl))\n",
    "\n",
    "\n",
    "foo = {'SpellLevel':lv,'FireBolt':fb,'MagicMissile':mm,'ScorchingRay':sr}\n",
    "df = pd.DataFrame(foo)\n",
    "\n",
    "print(df.head(5))\n",
    "df.loc[df['SpellLevel']==3].ScorchingRay.plot.hist()\n",
    "plt.show()\n",
    "\n",
    "'''\n"
   ]
  }
 ],
 "metadata": {
  "kernelspec": {
   "display_name": "Python 3",
   "language": "python",
   "name": "python3"
  },
  "language_info": {
   "codemirror_mode": {
    "name": "ipython",
    "version": 3
   },
   "file_extension": ".py",
   "mimetype": "text/x-python",
   "name": "python",
   "nbconvert_exporter": "python",
   "pygments_lexer": "ipython3",
   "version": "3.7.0"
  }
 },
 "nbformat": 4,
 "nbformat_minor": 2
}
